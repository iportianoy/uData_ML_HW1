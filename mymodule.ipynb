{
 "cells": [
  {
   "cell_type": "code",
   "execution_count": 3,
   "metadata": {},
   "outputs": [],
   "source": [
    "import numpy as np\n",
    "import pandas as pd\n",
    "import copy\n",
    "from scipy import stats\n",
    "from sklearn.linear_model import LinearRegression"
   ]
  },
  {
   "cell_type": "markdown",
   "metadata": {},
   "source": [
    "### Delete nulls"
   ]
  },
  {
   "cell_type": "code",
   "execution_count": null,
   "metadata": {},
   "outputs": [],
   "source": [
    "def delete_nulls(df, axis='row'):\n",
    "    true_headers = df.columns.values.tolist()\n",
    "    matrix = copy.deepcopy(df.values)\n",
    "    \n",
    "    if axis == 'row':\n",
    "        matrix_without_nulls = []\n",
    "        for row in matrix:\n",
    "            not_nulls = [item == item for item in row]\n",
    "    \n",
    "            if all(not_nulls):\n",
    "                matrix_without_nulls.append(row)\n",
    "                \n",
    "        return pd.DataFrame(data=np.array(matrix_without_nulls), columns=true_headers)\n",
    "    \n",
    "    elif axis == 'col':\n",
    "        matrix_without_nulls = []\n",
    "        headers = []\n",
    "        \n",
    "        for col, index in zip(matrix.T, range(0, matrix.shape[1])):\n",
    "            not_nulls = [item == item for item in col]\n",
    "            \n",
    "            if all(not_nulls):\n",
    "                matrix_without_nulls.append(col)\n",
    "                headers.append(true_headers[index])\n",
    "\n",
    "        return pd.DataFrame(data=matrix_without_nulls, columns=headers)    \n",
    "    \n",
    "    else:\n",
    "        print('Unknown axis name. Must be row or col')\n",
    "        return df"
   ]
  },
  {
   "cell_type": "markdown",
   "metadata": {},
   "source": [
    "### Replace nan"
   ]
  },
  {
   "cell_type": "code",
   "execution_count": 4,
   "metadata": {},
   "outputs": [],
   "source": [
    "def replace_nulls(df, value='mean'):\n",
    "    headers = df.columns.values.tolist()\n",
    "    matrix = copy.deepcopy(df.values)\n",
    "    print(matrix)\n",
    "    value_for_replace = None\n",
    "    \n",
    "    if value == 'mean':\n",
    "        value_for_replace = np.nanmean(matrix, axis=0)\n",
    "        \n",
    "    elif value == 'median':\n",
    "        value_for_replace = np.nanmedian(matrix, axis=0)    \n",
    "        \n",
    "    elif value == 'mode':\n",
    "        value_for_replace = stats.mode(matrix)[0][0]\n",
    "        \n",
    "    else:\n",
    "        print('Unknown mode name. Must be mean, mode or median')\n",
    "        return df\n",
    "    \n",
    "    for i in range(matrix.shape[0]):\n",
    "        for j in range(matrix.shape[1]):\n",
    "            if matrix[i, j] != matrix[i, j]:\n",
    "                matrix[i, j] = value_for_replace[j]\n",
    "    \n",
    "    return pd.DataFrame(data=matrix, columns=headers)  "
   ]
  },
  {
   "cell_type": "markdown",
   "metadata": {},
   "source": [
    "### Replace nan with linear regression"
   ]
  },
  {
   "cell_type": "code",
   "execution_count": 17,
   "metadata": {},
   "outputs": [],
   "source": [
    "def replace_nulls_with_lr(df):\n",
    "    headers = df.columns.values.tolist()\n",
    "    matrix = copy.deepcopy(df.values)\n",
    "    value_for_replace = None\n",
    "    print(matrix[1, 1])\n",
    "    \n",
    "    for j in range(matrix.shape[1]):\n",
    "        for i in range(matrix.shape[0]):\n",
    "            print(i, j)\n",
    "            if matrix[i, j] != matrix[i, j]:\n",
    "                X_train, X_test, y_train, y_test = get_train_test_set(matrix, j)\n",
    "                y_pred = get_pred(X_train, X_test, y_train)\n",
    "                matrix = get_new_matrix(list(X_train), list(X_test), list(y_train), list(y_pred), j)\n",
    "    \n",
    "    return pd.DataFrame(data=matrix, columns=headers) \n",
    "\n",
    "def get_train_test_set(matrix, j):\n",
    "    X_train, X_test, y_train, y_test = [], [], [], []\n",
    "    for i in range(matrix.shape[0]):\n",
    "        if matrix[i, j] != matrix[i, j]: # nan == nan (False)\n",
    "            X_test.append(list(matrix[i, :j]) + list(matrix[i, j+1:]))\n",
    "            y_test.append(matrix[i, j])\n",
    "        else:\n",
    "            X_train.append(list(matrix[i, :j]) + list(matrix[i, j+1:]))\n",
    "            y_train.append(matrix[i, j])\n",
    "            \n",
    "    return X_train, X_test, y_train, y_test\n",
    "\n",
    "def get_pred(X_train, X_test, y_train): \n",
    "    lr = LinearRegression()\n",
    "    lr = lr.fit(X_train, y_train)\n",
    "    y_pred = lr.predict(X_test)\n",
    "    \n",
    "    return y_pred\n",
    "\n",
    "def get_new_matrix(X_train, X_test, y_train, y_pred, j):\n",
    "    matrix = []\n",
    "    for i in range(len(X_train)):\n",
    "        X_train[i].insert(j, y_train[i])\n",
    "        matrix.append(X_train[i])\n",
    "        \n",
    "    for i in range(len(X_test)):\n",
    "        X_test[i].insert(j, y_pred[i])\n",
    "        matrix.append(X_test[i])\n",
    "        \n",
    "    print('Matrix: ')\n",
    "    print(matrix)\n",
    "    return np.array(matrix)\n"
   ]
  },
  {
   "cell_type": "markdown",
   "metadata": {},
   "source": [
    "Заміна nan на значення встановлене за допомогою лінійної регресії поки що працює у випадку, коли nan є тільки в стовпчику target, а у всіх інших немає nan, так як LinearRegression() по-іншому не працює."
   ]
  },
  {
   "cell_type": "markdown",
   "metadata": {},
   "source": [
    "### KNN"
   ]
  },
  {
   "cell_type": "code",
   "execution_count": null,
   "metadata": {},
   "outputs": [],
   "source": [
    "def euclidian_dist(x_known,x_unknown):\n",
    "    num_pred = x_unknown.shape[0]\n",
    "    num_data = x_known.shape[0]\n",
    "\n",
    "    dists = np.zeros((num_pred, num_data))\n",
    "\n",
    "    for i in range(num_pred):\n",
    "        for j in range(num_data):\n",
    "            dists[i,j] = np.sqrt(np.sum((x_unknown[i] - x_known[j])**2))\n",
    "\n",
    "    return dists\n",
    "\n",
    "def k_nearest_labels(dists, y_known, k):\n",
    "    num_pred = dists.shape[0]\n",
    "    n_nearest = []\n",
    "    \n",
    "    for j in range(num_pred):\n",
    "        dst = dists[j]\n",
    "        closest_y = y_known[np.argsort(dst)[:k]]\n",
    "        \n",
    "        n_nearest.append(closest_y)\n",
    "    return np.asarray(n_nearest) "
   ]
  },
  {
   "cell_type": "code",
   "execution_count": null,
   "metadata": {},
   "outputs": [],
   "source": [
    "class KNearest_Neighbours(object):\n",
    "    def __init__(self, k):\n",
    "        \n",
    "        self.k = k\n",
    "        self.test_set_x = None\n",
    "        self.train_set_x = None\n",
    "        self.train_set_y = None\n",
    "        \n",
    "    def fit(self, train_set_x, train_set_y):\n",
    "        self.train_set_x = train_set_x\n",
    "        self.train_set_y = train_set_y\n",
    "        \n",
    "    def predict(self, test_set_x):\n",
    "        dists = euclidian_dist(self.train_set_x, test_set_x)\n",
    "        knl = k_nearest_labels(dists, self.train_set_y, self.k)\n",
    "        prediction = []\n",
    "        for k_nearest in knl:\n",
    "            counts = np.bincount(k_nearest)\n",
    "            prediction.append(np.argmax(counts))\n",
    "        return prediction"
   ]
  },
  {
   "cell_type": "markdown",
   "metadata": {},
   "source": [
    "### Standartize"
   ]
  },
  {
   "cell_type": "code",
   "execution_count": 13,
   "metadata": {},
   "outputs": [],
   "source": [
    "def standartize(df):\n",
    "    headers = df.columns.values.tolist()\n",
    "    matrix = copy.deepcopy(df.values)\n",
    "    \n",
    "    mean = matrix.mean(axis=1, keepdims=True)\n",
    "    std = matrix.std(axis=1, keepdims=True)\n",
    "    matrix = (matrix - mean) / std\n",
    "    \n",
    "    return pd.DataFrame(data=matrix, columns=headers)"
   ]
  },
  {
   "cell_type": "markdown",
   "metadata": {},
   "source": [
    "### Scaling"
   ]
  },
  {
   "cell_type": "code",
   "execution_count": 119,
   "metadata": {},
   "outputs": [],
   "source": [
    "def scale(df, columns=None):\n",
    "    headers = df.columns.values.tolist()\n",
    "    matrix = copy.deepcopy(df.values)\n",
    "\n",
    "    columns_indexes = [headers.index(column_name) for column_name in columns]\n",
    "    min_columns_values = matrix.min(axis=0)\n",
    "    max_columns_values = matrix.max(axis=0)\n",
    "\n",
    "    for col_index in columns_indexes:\n",
    "        diff = matrix.T[col_index] - min_columns_values[col_index]\n",
    "        max_min_diff = max_columns_values[col_index] - min_columns_values[col_index]\n",
    "        matrix[:, col_index] = diff / max_min_diff\n",
    "\n",
    "    return pd.DataFrame(data=matrix, columns=headers)"
   ]
  }
 ],
 "metadata": {
  "kernelspec": {
   "display_name": "Python 3",
   "language": "python",
   "name": "python3"
  },
  "language_info": {
   "codemirror_mode": {
    "name": "ipython",
    "version": 3
   },
   "file_extension": ".py",
   "mimetype": "text/x-python",
   "name": "python",
   "nbconvert_exporter": "python",
   "pygments_lexer": "ipython3",
   "version": "3.7.0"
  }
 },
 "nbformat": 4,
 "nbformat_minor": 2
}
